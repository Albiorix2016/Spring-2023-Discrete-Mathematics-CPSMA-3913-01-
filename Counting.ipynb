{
  "nbformat": 4,
  "nbformat_minor": 0,
  "metadata": {
    "colab": {
      "provenance": [],
      "authorship_tag": "ABX9TyMTEYxCgoF0IqGmpn4ht8rn",
      "include_colab_link": true
    },
    "kernelspec": {
      "name": "python3",
      "display_name": "Python 3"
    },
    "language_info": {
      "name": "python"
    }
  },
  "cells": [
    {
      "cell_type": "markdown",
      "metadata": {
        "id": "view-in-github",
        "colab_type": "text"
      },
      "source": [
        "<a href=\"https://colab.research.google.com/github/Albiorix2016/Spring-2023-Discrete-Mathematics-CPSMA-3913-01-/blob/main/Counting.ipynb\" target=\"_parent\"><img src=\"https://colab.research.google.com/assets/colab-badge.svg\" alt=\"Open In Colab\"/></a>"
      ]
    },
    {
      "cell_type": "markdown",
      "source": [
        "Project 4 CPSMA 3133 Professor Dr. Lynam's Discrete Mathematics\n",
        "\n",
        "Counting\n",
        "\n",
        "Howard Perkins\n",
        "\n"
      ],
      "metadata": {
        "id": "IebtG8gyEjQE"
      }
    },
    {
      "cell_type": "markdown",
      "source": [
        "We were asked Consider a simulation of 10 events with 20 possible outcomes.\n",
        "\n",
        "So for a simulation of 10 events from Harry Potter with 20 possible outcomes in a particular order, there are 20 * 20 * 20 * ... * 20 (10 times) possible outcomes, or 20^10 possible outcomes. In python, this could be calculated using the following code:"
      ],
      "metadata": {
        "id": "aKWhs_bqFXf2"
      }
    },
    {
      "cell_type": "code",
      "execution_count": null,
      "metadata": {
        "id": "6iO4gXKGEhEG"
      },
      "outputs": [],
      "source": [
        "import math\n",
        "\n",
        "outcomes = 20**10\n",
        "print(\"Number of possible outcomes in order:\", outcomes)"
      ]
    },
    {
      "cell_type": "markdown",
      "source": [
        "(b) If the order did not matter, the number of possible outcomes would be the number of combinations of 10 events from 20 possible outcomes, or C(20,10). In python, this could be calculated using the library math as follows:"
      ],
      "metadata": {
        "id": "5qzZE_p4FmnO"
      }
    },
    {
      "cell_type": "code",
      "source": [
        "import math\n",
        "\n",
        "outcomes = math.comb(20, 10)\n",
        "print(\"Number of possible outcomes when order doesn't matter:\", outcomes)"
      ],
      "metadata": {
        "id": "X70hCVYYFp4i"
      },
      "execution_count": null,
      "outputs": []
    },
    {
      "cell_type": "markdown",
      "source": [
        " If we were not allowed to select an item multiple times, the number of possible outcomes with order mattering would be the number of permutations of 10 events from 20 possible outcomes, or P(20,10). In python, this could be calculated using the library math as follows:"
      ],
      "metadata": {
        "id": "RL19dXRCFtre"
      }
    },
    {
      "cell_type": "code",
      "source": [
        "import math\n",
        "\n",
        "outcomes = math.perm(20, 10)\n",
        "print(\"Number of possible outcomes without repetition and order matters:\", outcomes)"
      ],
      "metadata": {
        "id": "bBmGXWFIFw2h"
      },
      "execution_count": null,
      "outputs": []
    },
    {
      "cell_type": "markdown",
      "source": [
        "And the number of possible outcomes without repetition and order not mattering would be the number of combinations of 10 events from 20 possible outcomes, or C(20,10)."
      ],
      "metadata": {
        "id": "zrEdfIFYF1gg"
      }
    },
    {
      "cell_type": "code",
      "source": [
        "import math\n",
        "\n",
        "outcomes = math.comb(20, 10)\n",
        "print(\"Number of possible outcomes without repetition and order doesn't matter:\", outcomes)"
      ],
      "metadata": {
        "id": "DrZHGOdOF3js"
      },
      "execution_count": null,
      "outputs": []
    },
    {
      "cell_type": "markdown",
      "source": [
        "The coefficient of the 5th order of (x − 3)9 can be calculated using the binomial theorem. In python, this could be calculated as follows:"
      ],
      "metadata": {
        "id": "vyDL-28yF51w"
      }
    },
    {
      "cell_type": "code",
      "source": [
        "import math\n",
        "\n",
        "x = 3\n",
        "n = 9\n",
        "k = 5\n",
        "\n",
        "coefficient = math.comb(n, k) * (-1)(n-k) * xk\n",
        "print(\"Coefficient of the 5th order of (x - 3)^9:\", coefficient)"
      ],
      "metadata": {
        "id": "9iOzv0iNF8BU"
      },
      "execution_count": null,
      "outputs": []
    },
    {
      "cell_type": "markdown",
      "source": [
        "In the simulation of 10 events from Harry Potter with 20 possible outcomes, the number of possible outcomes in a particular order was 20^10. If order did not matter, the number of possible outcomes was C(20,10). When we were not allowed to select an item multiple times, the number of possible outcomes with order mattering was P(20,10) and without repetition and order not mattering was C(20,10). The coefficient of the 5th order of (x − 3)9 was calculated using the binomial theorem to be equal to -2916 * x^5."
      ],
      "metadata": {
        "id": "i6OpEgvIGUtM"
      }
    },
    {
      "cell_type": "code",
      "source": [
        "import math\n",
        "\n",
        "# Number of possible outcomes in order\n",
        "outcomes_order = 20**10\n",
        "print(\"Number of possible outcomes in order:\", outcomes_order)\n",
        "\n",
        "# Number of possible outcomes when order doesn't matter\n",
        "outcomes_no_order = math.comb(20, 10)\n",
        "print(\"Number of possible outcomes when order doesn't matter:\", outcomes_no_order)\n",
        "\n",
        "# Number of possible outcomes without repetition and order matters\n",
        "outcomes_no_rep_order = math.perm(20, 10)\n",
        "print(\"Number of possible outcomes without repetition and order matters:\", outcomes_no_rep_order)\n",
        "\n",
        "# Number of possible outcomes without repetition and order doesn't matter\n",
        "outcomes_no_rep_no_order = math.comb(20, 10)\n",
        "print(\"Number of possible outcomes without repetition and order doesn't matter:\", outcomes_no_rep_no_order)\n",
        "\n",
        "# Coefficient of the 5th order of (x - 3)^9\n",
        "x = 3\n",
        "n = 9\n",
        "k = 5\n",
        "coefficient = math.comb(n, k) * (-1)**(n-k) * x**k\n",
        "print(\"Coefficient of the 5th order of (x - 3)^9:\", coefficient)\n"
      ],
      "metadata": {
        "id": "IPt6GrVYGWHn"
      },
      "execution_count": null,
      "outputs": []
    },
    {
      "cell_type": "markdown",
      "source": [
        "The outcomes are different because each outcome represents a unique combination of events. The number of possible outcomes depends on whether the order matters, if we are allowed to select items multiple times, and the number of events and possible outcomes. The coefficient of the 5th order of (x − 3)9 depends on the power of x and the number of terms in the expansion of the expression."
      ],
      "metadata": {
        "id": "FougZFKbGZEh"
      }
    }
  ]
}