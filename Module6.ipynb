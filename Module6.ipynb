{
  "nbformat": 4,
  "nbformat_minor": 0,
  "metadata": {
    "colab": {
      "provenance": [],
      "authorship_tag": "ABX9TyPf8eq+awN7YoiBbvPMwKuh",
      "include_colab_link": true
    },
    "kernelspec": {
      "name": "python3",
      "display_name": "Python 3"
    },
    "language_info": {
      "name": "python"
    }
  },
  "cells": [
    {
      "cell_type": "markdown",
      "metadata": {
        "id": "view-in-github",
        "colab_type": "text"
      },
      "source": [
        "<a href=\"https://colab.research.google.com/github/Albiorix2016/Spring-2023-Discrete-Mathematics-CPSMA-3913-01-/blob/main/Module6.ipynb\" target=\"_parent\"><img src=\"https://colab.research.google.com/assets/colab-badge.svg\" alt=\"Open In Colab\"/></a>"
      ]
    },
    {
      "cell_type": "markdown",
      "source": [
        "We were asked to perform the following:\n",
        "1. Compute using modulo arithmetic\n",
        "\n",
        "(a) Convert the number 240367 into base ten.\n",
        "\n",
        "(b) Convert the hexadecimal number 72e3 or 0x72e3 into base ten.\n",
        "\n",
        "(c) Convert 3735928559 into hexadecimal.\n",
        "\n",
        "(d) Using two’s complement preform the base ten subtraction 25 − 37\n",
        "\n",
        "And then check our work. \n",
        "\n",
        "I wrote the following in python to help with this."
      ],
      "metadata": {
        "id": "MDvjgfsoycoc"
      }
    },
    {
      "cell_type": "markdown",
      "source": [
        "First: Convert 240367 into base ten"
      ],
      "metadata": {
        "id": "2yvCiYeVyqK4"
      }
    },
    {
      "cell_type": "code",
      "execution_count": 7,
      "metadata": {
        "colab": {
          "base_uri": "https://localhost:8080/"
        },
        "id": "ZyiPprbTyByT",
        "outputId": "509b5ccd-6622-4e6e-97e8-edf5468b3732"
      },
      "outputs": [
        {
          "output_type": "stream",
          "name": "stdout",
          "text": [
            "240367\n"
          ]
        }
      ],
      "source": [
        "# (a) Convert the number 240367 into base ten.\n",
        "print(int(240367))"
      ]
    },
    {
      "cell_type": "markdown",
      "source": [
        "Convert the number 240367 into base ten. The answer is 386344."
      ],
      "metadata": {
        "id": "DDpVX-mby3hu"
      }
    },
    {
      "cell_type": "markdown",
      "source": [
        "Second: Convert the hexadecimal number 72e3 or 0x72e3 into base ten"
      ],
      "metadata": {
        "id": "7u8JRtd_zEfj"
      }
    },
    {
      "cell_type": "code",
      "source": [
        "# (b) Convert the hexadecimal number 72e3 or 0x72e3 into base ten.\n",
        "print(\"0x72e3 in base ten is:\", 7*16**3 + 2*16**2 + 14*16 + 3)"
      ],
      "metadata": {
        "colab": {
          "base_uri": "https://localhost:8080/"
        },
        "id": "Ha1dIupazJye",
        "outputId": "98ad60ee-cdf1-4b04-ab7d-8a1f50e25842"
      },
      "execution_count": 8,
      "outputs": [
        {
          "output_type": "stream",
          "name": "stdout",
          "text": [
            "0x72e3 in base ten is: 29411\n"
          ]
        }
      ]
    },
    {
      "cell_type": "markdown",
      "source": [
        "Convert the hexadecimal number 72e3 or 0x72e3 into base ten. The answer is 29411."
      ],
      "metadata": {
        "id": "oZuqx5ywzO8J"
      }
    },
    {
      "cell_type": "markdown",
      "source": [
        "Third: Convert 3735928559 into hexadecimal"
      ],
      "metadata": {
        "id": "Yveoblea1BAW"
      }
    },
    {
      "cell_type": "code",
      "source": [
        "# (c) Convert 3735928559 into hexadecimal.\n",
        "print(\"3735928559 in hexadecimal is:\", hex(3735928559))"
      ],
      "metadata": {
        "colab": {
          "base_uri": "https://localhost:8080/"
        },
        "id": "2y6sdyIz1Vbb",
        "outputId": "fa1efac5-a7e2-4ca4-d616-b3b16f4fd580"
      },
      "execution_count": 9,
      "outputs": [
        {
          "output_type": "stream",
          "name": "stdout",
          "text": [
            "3735928559 in hexadecimal is: 0xdeadbeef\n"
          ]
        }
      ]
    },
    {
      "cell_type": "markdown",
      "source": [
        "Final asked to use two's complement perform the base then subtraction 25-37 "
      ],
      "metadata": {
        "id": "M0w8fNAz1jK1"
      }
    },
    {
      "cell_type": "code",
      "source": [
        "# (d) Using two’s complement perform the base ten subtraction 25 − 37. Check your answer.\n",
        "# Convert 25 and 37 to binary (using 6 bits for this example)\n",
        "a = bin(25 & 0b111111)  # 0b11001\n",
        "b = bin(37 & 0b111111)  # 0b100101\n",
        "# Perform two's complement subtraction\n",
        "diff = (int(a, 2) + int(b, 2) ^ 0b111111 + 1) & 0b111111\n",
        "# Convert the result back to decimal\n",
        "result = diff - 64 if diff > 31 else diff\n",
        "# Check the answer\n",
        "print(\"25 - 37 = \", result)"
      ],
      "metadata": {
        "id": "p-JYTNNS1xMI"
      },
      "execution_count": null,
      "outputs": []
    }
  ]
}