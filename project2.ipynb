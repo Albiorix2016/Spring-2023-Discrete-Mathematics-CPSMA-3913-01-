{
  "nbformat": 4,
  "nbformat_minor": 0,
  "metadata": {
    "colab": {
      "provenance": [],
      "authorship_tag": "ABX9TyMq29Qo5EGbiXFrIYQtxhsw",
      "include_colab_link": true
    },
    "kernelspec": {
      "name": "python3",
      "display_name": "Python 3"
    },
    "language_info": {
      "name": "python"
    }
  },
  "cells": [
    {
      "cell_type": "markdown",
      "metadata": {
        "id": "view-in-github",
        "colab_type": "text"
      },
      "source": [
        "<a href=\"https://colab.research.google.com/github/Albiorix2016/Spring-2023-Discrete-Mathematics-CPSMA-3913-01-/blob/main/project2.ipynb\" target=\"_parent\"><img src=\"https://colab.research.google.com/assets/colab-badge.svg\" alt=\"Open In Colab\"/></a>"
      ]
    },
    {
      "cell_type": "markdown",
      "source": [
        "Spring 2023 Discrete Mathematics (CPSMA-3913-01) \n",
        "\n",
        "Relations and Functions\n",
        "\n",
        "Howard Perkins\n",
        "\n",
        "1/18/2023"
      ],
      "metadata": {
        "id": "wQ0mdYbXtciT"
      }
    },
    {
      "cell_type": "markdown",
      "source": [
        "Let's define a function called \"easyCube\" which calculates the cube of a given number:"
      ],
      "metadata": {
        "id": "NSDgz-kjn1QN"
      }
    },
    {
      "cell_type": "code",
      "source": [
        "def easyCube (x):\n",
        "   return x ** 3"
      ],
      "metadata": {
        "id": "Db4jetKDn383"
      },
      "execution_count": 1,
      "outputs": []
    },
    {
      "cell_type": "markdown",
      "source": [
        "\n",
        "This function is neither one-to-one, onto, or bijective. It is not one-to-one because it is possible to have two different input values that give the same output.  It is not onto because not all possible outputs (in this case all cubes of integers) can be achieved. Finally, it is not bijective, because it is neither one-to-one nor onto.\n",
        "\n",
        "To make this function bijective, the domain could be changed to include just the set of all cubes of integers."
      ],
      "metadata": {
        "id": "Zu7FuIRlploL"
      }
    },
    {
      "cell_type": "markdown",
      "source": [
        "Graph the function"
      ],
      "metadata": {
        "id": "qyM8cEcwn8XA"
      }
    },
    {
      "cell_type": "code",
      "source": [
        "import matplotlib.pyplot as plt\n",
        "x = range(10)\n",
        "y = [easyCube(val) for val in x]\n",
        "plt.plot(x,y)\n",
        "plt.show()"
      ],
      "metadata": {
        "colab": {
          "base_uri": "https://localhost:8080/",
          "height": 265
        },
        "id": "oIFm_j0mn-v7",
        "outputId": "907f9c41-dd20-4b7b-ba13-4fe4a8a460fb"
      },
      "execution_count": 2,
      "outputs": [
        {
          "output_type": "display_data",
          "data": {
            "text/plain": [
              "<Figure size 432x288 with 1 Axes>"
            ],
            "image/png": "[encoded data removed]"
          },
          "metadata": {
            "needs_background": "light"
          }
        }
      ]
    },
    {
      "cell_type": "markdown",
      "source": [
        "myDict = {\n",
        "    \"One\": 1,\n",
        "    \"Two\": 2,\n",
        "    \"Beautiful\": \"Pretty\"\n",
        "}\n",
        "\n",
        "Sample Set:\n",
        "\n",
        "\"One\",\"Two\",\"Three\"\n",
        "\n",
        "Result:\n",
        "{'One': 1, 'Two': 2, 'Three': None, 'Beautiful': 'Pretty'}\n",
        "\n",
        "A dictionary acts upon a set of keys. In this example, the set of keys is {\"One\", \"Two\", \"Beautiful\"}.\n",
        "\n",
        "The set of keys is act upon is the set of values associated with each of the keys. The relation is neither reflexive, symmetric, or transitive. It is not an equivalence relation."
      ],
      "metadata": {
        "id": "Olq--3ZoraS4"
      }
    }
  ]
}