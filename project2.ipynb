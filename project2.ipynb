{
  "nbformat": 4,
  "nbformat_minor": 0,
  "metadata": {
    "colab": {
      "provenance": [],
      "authorship_tag": "ABX9TyODa9fuGN5LTxKD0vQY1tDt",
      "include_colab_link": true
    },
    "kernelspec": {
      "name": "python3",
      "display_name": "Python 3"
    },
    "language_info": {
      "name": "python"
    }
  },
  "cells": [
    {
      "cell_type": "markdown",
      "metadata": {
        "id": "view-in-github",
        "colab_type": "text"
      },
      "source": [
        "<a href=\"https://colab.research.google.com/github/Albiorix2016/Spring-2023-Discrete-Mathematics-CPSMA-3913-01-/blob/main/project2.ipynb\" target=\"_parent\"><img src=\"https://colab.research.google.com/assets/colab-badge.svg\" alt=\"Open In Colab\"/></a>"
      ]
    },
    {
      "cell_type": "markdown",
      "source": [
        "Spring 2023 Discrete Mathematics (CPSMA-3913-01) \n",
        "\n",
        "Relations and Functions\n",
        "\n",
        "Howard Perkins\n",
        "\n",
        "1/18/2023"
      ],
      "metadata": {
        "id": "wQ0mdYbXtciT"
      }
    },
    {
      "cell_type": "markdown",
      "source": [
        "Define the area_of_triangle function which takes three input parameters, the base and height of a triangle, and the angle (in degrees) between them. "
      ],
      "metadata": {
        "id": "NSDgz-kjn1QN"
      }
    },
    {
      "cell_type": "code",
      "source": [
        "def area_of_triangle(base, height, angle): \n",
        "    area = 0.5 * base * height * math.sin(math.radians(angle))\n",
        "    return area"
      ],
      "metadata": {
        "id": "Db4jetKDn383"
      },
      "execution_count": 4,
      "outputs": []
    },
    {
      "cell_type": "markdown",
      "source": [
        "\n",
        "This function is not one-to-one, onto, or bijective as it produces the same output for different inputs (e.g. with angle 60° both base and height could be 1, 2, 3, ...). \n",
        "\n",
        "It is not possible to change the domain of this function to make it bijective as it has multiple inputs that are required to produce the output"
      ],
      "metadata": {
        "id": "Zu7FuIRlploL"
      }
    },
    {
      "cell_type": "markdown",
      "source": [
        "Graph the area_of_triangle function on the domain [-90, 90] for base 2, height 4."
      ],
      "metadata": {
        "id": "qyM8cEcwn8XA"
      }
    },
    {
      "cell_type": "code",
      "source": [
        "import matplotlib.pyplot as plt\n",
        "import numpy as np\n",
        "import math\n",
        "\n",
        "x=np.linspace(-90, 90, num=181)\n",
        "y=[]\n",
        "\n",
        "for i in x:\n",
        "     y.append(area_of_triangle(2, 4, i))\n",
        "     \n",
        "plt.plot(x, y) \n",
        "plt.xlabel('Angle(degrees)') \n",
        "plt.ylabel('Area') \n",
        "plt.title('Area of Triangle') \n",
        "plt.grid()\n",
        "plt.show()"
      ],
      "metadata": {
        "colab": {
          "base_uri": "https://localhost:8080/",
          "height": 295
        },
        "id": "oIFm_j0mn-v7",
        "outputId": "b590c850-5e13-4ff2-b375-88bb79e8f525"
      },
      "execution_count": 5,
      "outputs": [
        {
          "output_type": "display_data",
          "data": {
            "text/plain": [
              "<Figure size 432x288 with 1 Axes>"
            ],
            "image/png": "[encoded data removed]"
          },
          "metadata": {
            "needs_background": "light"
          }
        }
      ]
    },
    {
      "cell_type": "markdown",
      "source": [
        "myDict = {\n",
        "    \"One\": 1,\n",
        "    \"Two\": 2,\n",
        "    \"Beautiful\": \"Pretty\"\n",
        "}\n",
        "\n",
        "Sample Set:\n",
        "\n",
        "\"One\",\"Two\",\"Three\"\n",
        "\n",
        "Result:\n",
        "{'One': 1, 'Two': 2, 'Three': None, 'Beautiful': 'Pretty'}\n",
        "\n",
        "A dictionary acts upon a set of keys. In this example, the set of keys is {\"One\", \"Two\", \"Beautiful\"}.\n",
        "\n",
        "The set of keys is act upon is the set of values associated with each of the keys. The relation is neither reflexive, symmetric, or transitive. It is not an equivalence relation."
      ],
      "metadata": {
        "id": "Olq--3ZoraS4"
      }
    }
  ]
}