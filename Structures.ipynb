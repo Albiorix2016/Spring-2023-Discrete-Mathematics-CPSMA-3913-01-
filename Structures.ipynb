{
  "nbformat": 4,
  "nbformat_minor": 0,
  "metadata": {
    "colab": {
      "provenance": [],
      "authorship_tag": "ABX9TyOshFZEohK6pWG5HlKsCaB1",
      "include_colab_link": true
    },
    "kernelspec": {
      "name": "python3",
      "display_name": "Python 3"
    },
    "language_info": {
      "name": "python"
    }
  },
  "cells": [
    {
      "cell_type": "markdown",
      "metadata": {
        "id": "view-in-github",
        "colab_type": "text"
      },
      "source": [
        "<a href=\"https://colab.research.google.com/github/Albiorix2016/Spring-2023-Discrete-Mathematics-CPSMA-3913-01-/blob/main/Structures.ipynb\" target=\"_parent\"><img src=\"https://colab.research.google.com/assets/colab-badge.svg\" alt=\"Open In Colab\"/></a>"
      ]
    },
    {
      "cell_type": "markdown",
      "source": [
        "![harrypotter01-249x249grid.png](data:image/png;base64,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)\n",
        "\n",
        "Howard Perkins\n",
        "CPSMA 3913\n",
        "Dr. Lynam\n",
        "\n",
        "I will create a directed graph structure with 5 vertices and 5 edges based on Harry Potter's life. The vertices will represent key events in Harry's life and the edges will represent the causal relationship between the events. I will stay with my harry potter theme I've been using as it is a more interesting story to put out on the internet.\n",
        "\n",
        "The 5 vertices are:\n",
        "\n",
        "    Finding out he's a wizard\n",
        "    Enrollment in Hogwarts School of Witchcraft and Wizardry\n",
        "    Defeating the Basilisk in the Chamber of Secrets\n",
        "    Fighting in the Battle of Hogwarts\n",
        "    Destroying the Horcruxes\n",
        "\n",
        "The 5 edges are:\n",
        "\n",
        "    Finding out he's a wizard leads to enrollment in Hogwarts\n",
        "    Enrollment in Hogwarts leads to defeating the Basilisk in the Chamber of Secrets\n",
        "    Defeating the Basilisk leads to fighting in the Battle of Hogwarts\n",
        "    Fighting in the Battle of Hogwarts leads to destroying the Horcruxes\n",
        "    Destroying the Horcruxes leads to the defeat of Lord Voldemort\n",
        "\n",
        "    To visualize this structure, we will use the graphviz package in Python."
      ],
      "metadata": {
        "id": "0TJ0jjU7QrV3"
      }
    },
    {
      "cell_type": "code",
      "execution_count": 2,
      "metadata": {
        "colab": {
          "base_uri": "https://localhost:8080/",
          "height": 35
        },
        "id": "aeFFj0OBQqrL",
        "outputId": "6cef678e-596f-41f1-9353-d5bf240f0be9"
      },
      "outputs": [
        {
          "output_type": "execute_result",
          "data": {
            "text/plain": [
              "'harry_potter.gv.pdf'"
            ],
            "application/vnd.google.colaboratory.intrinsic+json": {
              "type": "string"
            }
          },
          "metadata": {},
          "execution_count": 2
        }
      ],
      "source": [
        "from graphviz import Digraph\n",
        "\n",
        "g = Digraph('G', filename='harry_potter.gv')\n",
        "\n",
        "g.edge('Finding out he\\'s a wizard', 'Enrollment in Hogwarts')\n",
        "g.edge('Enrollment in Hogwarts', 'Defeating the Basilisk in the Chamber of Secrets')\n",
        "g.edge('Defeating the Basilisk in the Chamber of Secrets', 'Fighting in the Battle of Hogwarts')\n",
        "g.edge('Fighting in the Battle of Hogwarts', 'Destroying the Horcruxes')\n",
        "g.edge('Destroying the Horcruxes', 'Defeat of Lord Voldemort')\n",
        "\n",
        "g.view()\n"
      ]
    },
    {
      "cell_type": "markdown",
      "source": [
        " A path in this structure is a sequence of vertices where each vertex is connected to the next one by an edge. For example, one path in this structure is: Finding out he's a wizard -> Enrollment in Hogwarts -> Defeating the Basilisk in the Chamber of Secrets -> Fighting in the Battle of Hogwarts -> Destroying the Horcruxes -> Defeat of Lord Voldemort.\n",
        "\n",
        " "
      ],
      "metadata": {
        "id": "uHU-K4-DQ_05"
      }
    },
    {
      "cell_type": "markdown",
      "source": [
        "The degree of a vertex is the number of edges connecting to it. In this directed graph, the degree of a vertex can be either in-degree or out-degree. In-degree is the number of incoming edges and out-degree is the number of outgoing edges.\n",
        "\n",
        "For example, the in-degree of \"Finding out he's a wizard\" is 0 and the out-degree is 1. The in-degree of \"Defeat of Lord Voldemort\" is 1 and the out-degree is 0."
      ],
      "metadata": {
        "id": "yMnrcfdNRJ1d"
      }
    },
    {
      "cell_type": "markdown",
      "source": [
        "This directed graph does not contain a cycle. A cycle in a graph is a sequence of vertices where the first and last vertex are the same and each vertex is connected to the next one by an edge. In this graph, there is no way to start at a vertex and end up at the same vertex again, which means there is no cycle."
      ],
      "metadata": {
        "id": "T8k8IPizRPFh"
      }
    },
    {
      "cell_type": "markdown",
      "source": [
        "The graph shows the key events in Harry Potter's life and the causal relationship between them. The graph is directed, meaning that the edges have a direction and represent a one-way relationship between the vertices. The in-degree and out-degree of each vertex indicate the number of incoming and outgoing edges."
      ],
      "metadata": {
        "id": "W_2Myc1mRQkp"
      }
    },
    {
      "cell_type": "markdown",
      "source": [
        "The story the structure shows is Harry's journey from finding out he's a wizard to the defeat of Lord Voldemort. The graph captures the key events in his life and how they were connected to one another. The path in the graph shows the sequence of events that led to the defeat of Lord Voldemort, emphasizing Harry's bravery and determination."
      ],
      "metadata": {
        "id": "_bWd0FCHRULL"
      }
    }
  ]
}